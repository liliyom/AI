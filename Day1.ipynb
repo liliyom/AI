{
  "nbformat": 4,
  "nbformat_minor": 0,
  "metadata": {
    "colab": {
      "provenance": [],
      "authorship_tag": "ABX9TyN4KOrGG08pyCxecDl9EojP",
      "include_colab_link": true
    },
    "kernelspec": {
      "name": "python3",
      "display_name": "Python 3"
    },
    "language_info": {
      "name": "python"
    }
  },
  "cells": [
    {
      "cell_type": "markdown",
      "metadata": {
        "id": "view-in-github",
        "colab_type": "text"
      },
      "source": [
        "<a href=\"https://colab.research.google.com/github/liliyom/AI/blob/main/Day1.ipynb\" target=\"_parent\"><img src=\"https://colab.research.google.com/assets/colab-badge.svg\" alt=\"Open In Colab\"/></a>"
      ]
    },
    {
      "cell_type": "code",
      "execution_count": 1,
      "metadata": {
        "colab": {
          "base_uri": "https://localhost:8080/"
        },
        "id": "Lb_f85LNEfMV",
        "outputId": "cfd8db5c-4b7c-4243-f685-c2a1aa9213f2"
      },
      "outputs": [
        {
          "output_type": "stream",
          "name": "stdout",
          "text": [
            "Hello world\n"
          ]
        }
      ],
      "source": [
        "print(\"Hello world\")"
      ]
    },
    {
      "cell_type": "code",
      "source": [
        "for i in range(1, 5):\n",
        "    print('*' * i)"
      ],
      "metadata": {
        "colab": {
          "base_uri": "https://localhost:8080/"
        },
        "id": "zDmTVVZnFtPy",
        "outputId": "f29db790-a88c-4468-a822-bf5e6b8dacd0"
      },
      "execution_count": 5,
      "outputs": [
        {
          "output_type": "stream",
          "name": "stdout",
          "text": [
            "*\n",
            "**\n",
            "***\n",
            "****\n"
          ]
        }
      ]
    },
    {
      "cell_type": "code",
      "source": [
        "num = int(input(\"Enter a number: \"))\n",
        "print(num, \" \", type(num))\n",
        "floatNum = float(input(\"Enter a decimal number: \"))\n",
        "print(floatNum, \" \", type(floatNum))"
      ],
      "metadata": {
        "colab": {
          "base_uri": "https://localhost:8080/"
        },
        "id": "1SVJcAr2HP1Y",
        "outputId": "8a26d336-9563-4ded-d612-61bb856b25bc"
      },
      "execution_count": 6,
      "outputs": [
        {
          "output_type": "stream",
          "name": "stdout",
          "text": [
            "Enter a number: 8\n",
            "8   <class 'int'>\n",
            "Enter a decimal number: 5.87\n",
            "5.87   <class 'float'>\n"
          ]
        }
      ]
    },
    {
      "cell_type": "code",
      "source": [
        "input_str = input(\"Enter a string: \")\n",
        "print(input_str, \" \", type(input_str))\n"
      ],
      "metadata": {
        "colab": {
          "base_uri": "https://localhost:8080/"
        },
        "id": "Ir7G9vTeHabd",
        "outputId": "a785187b-e2c8-496a-85b3-dcee5bd4490b"
      },
      "execution_count": 10,
      "outputs": [
        {
          "output_type": "stream",
          "name": "stdout",
          "text": [
            "Enter a string: liliyom kareem\n",
            "liliyom kareem   <class 'str'>\n"
          ]
        }
      ]
    },
    {
      "cell_type": "code",
      "source": [
        "# Write a program that asks the user to enter two numbers, obtains the two numbers from the\n",
        "# user and prints the sum, product, difference, quotient and remainder of the two numbers.\n",
        "# Ask the user to enter two numbers in a single line, separated by a space\n",
        "num1, num2 = map(int, input(\"Enter two numbers: \").split())\n",
        "\n",
        "# Calculate the operations\n",
        "sum_result = num1 + num2\n",
        "product_result = num1 * num2\n",
        "difference_result = num1 - num2\n",
        "quotient_result = num1 // num2 if num2 != 0 else \"undefined (division by zero)\"\n",
        "remainder_result = num1 % num2 if num2 != 0 else \"undefined (division by zero)\"\n",
        "\n",
        "# Print the results in the specified format\n",
        "print(\"The sum is\", sum_result)\n",
        "print(\"The product is\", product_result)\n",
        "print(\"The difference is\", difference_result)\n",
        "print(\"The quotient is\", quotient_result)\n",
        "print(\"The modulus is\", remainder_result)\n"
      ],
      "metadata": {
        "colab": {
          "base_uri": "https://localhost:8080/"
        },
        "id": "mkWo-0fOIrDy",
        "outputId": "e609848b-47b4-4a92-d751-57519f48b85f"
      },
      "execution_count": 17,
      "outputs": [
        {
          "output_type": "stream",
          "name": "stdout",
          "text": [
            "Enter two numbers: 4 5\n",
            "The sum is 9\n",
            "The product is 20\n",
            "The difference is -1\n",
            "The quotient is 0\n",
            "The modulus is 4\n"
          ]
        }
      ]
    },
    {
      "cell_type": "code",
      "source": [],
      "metadata": {
        "id": "osTcn2GhRK4h"
      },
      "execution_count": null,
      "outputs": []
    },
    {
      "cell_type": "code",
      "source": [
        "# Write a program that reads in the radius of a circle and prints the circle’s diameter,\n",
        "# circumference and area. Use the constant value 3.14159 for π. Perform each of these\n",
        "# calculations inside the print statement(s).\n",
        "rad = int(input(\"Enter a radus:\"))\n",
        "print(num)\n",
        "pie = 3.14\n",
        "diameter= 2*rad\n",
        "print(diameter)\n",
        "circum = 2*pie*rad\n",
        "print(circum)"
      ],
      "metadata": {
        "colab": {
          "base_uri": "https://localhost:8080/"
        },
        "id": "GGqiezedK8vw",
        "outputId": "0fbb892e-1175-4eb4-ba9d-5bf81aa34caa"
      },
      "execution_count": 19,
      "outputs": [
        {
          "output_type": "stream",
          "name": "stdout",
          "text": [
            "Enter a radus:9\n",
            "7\n",
            "18\n",
            "56.52\n"
          ]
        }
      ]
    },
    {
      "cell_type": "code",
      "source": [
        "# Define the starting number of H's\n",
        "# Define the starting number of H's\n",
        "num_H = 6\n",
        "spaces = 0\n",
        "\n",
        "# Loop to print each line\n",
        "for i in range(num_H, 0, -1):\n",
        "    print(\" \" * spaces + \"H\" * i)\n",
        "    spaces += 1  # Increase the spaces for the next line\n",
        "\n"
      ],
      "metadata": {
        "colab": {
          "base_uri": "https://localhost:8080/"
        },
        "id": "WBy8hXYlMBPj",
        "outputId": "a9ff5182-42b8-42d1-e423-709bbd92f1c4"
      },
      "execution_count": 32,
      "outputs": [
        {
          "output_type": "stream",
          "name": "stdout",
          "text": [
            "HHHHHH\n",
            " HHHHH\n",
            "  HHHH\n",
            "   HHH\n",
            "    HH\n",
            "     H\n"
          ]
        }
      ]
    },
    {
      "cell_type": "code",
      "source": [
        "# Write a program that reads an integer and determines and prints whether it is odd or even.\n",
        "num = int(input(\"enter a number\"))\n",
        "if num%2==0:\n",
        "  print(\"number is even\")\n",
        "else:\n",
        "  print(\"number is odd\")"
      ],
      "metadata": {
        "colab": {
          "base_uri": "https://localhost:8080/"
        },
        "id": "tFlOQTXxPaVw",
        "outputId": "435218c1-7cfe-4fed-a89d-efbb7f7ea227"
      },
      "execution_count": 36,
      "outputs": [
        {
          "output_type": "stream",
          "name": "stdout",
          "text": [
            "enter a number67\n",
            "number is odd\n"
          ]
        }
      ]
    },
    {
      "cell_type": "code",
      "source": [
        "num1, num2,num3 = map(int, input(\"Enter two numbers: \").split())\n",
        "if num1>num2>num3:\n",
        "  print(\"num1 is greater\")\n",
        "elif num2>num3:\n",
        "    print(\"num2 is greater\")\n",
        "else:\n",
        "      print(\"num3 is greater\")"
      ],
      "metadata": {
        "colab": {
          "base_uri": "https://localhost:8080/"
        },
        "id": "AaBJEjEtRMyn",
        "outputId": "c7f9055e-8a2b-4914-b456-b9304f7780ce"
      },
      "execution_count": 39,
      "outputs": [
        {
          "output_type": "stream",
          "name": "stdout",
          "text": [
            "Enter two numbers: 3 5 1\n",
            "num2 is greater\n"
          ]
        }
      ]
    },
    {
      "cell_type": "code",
      "source": [],
      "metadata": {
        "id": "hw0X4xO8R3aB"
      },
      "execution_count": null,
      "outputs": []
    }
  ]
}